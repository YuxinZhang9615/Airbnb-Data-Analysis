{
 "cells": [
  {
   "cell_type": "code",
   "execution_count": 4,
   "metadata": {},
   "outputs": [],
   "source": [
    "import numpy as np\n",
    "import pandas as pd\n",
    "from sklearn.model_selection import GridSearchCV\n",
    "from sklearn.ensemble import RandomForestRegressor\n",
    "from sklearn.svm import SVR\n",
    "from sklearn import metrics"
   ]
  },
  {
   "cell_type": "code",
   "execution_count": 3,
   "metadata": {},
   "outputs": [],
   "source": [
    "train = pd.read_csv(\"train_validation.csv\")\n",
    "test = pd.read_csv(\"test.csv\")"
   ]
  },
  {
   "cell_type": "code",
   "execution_count": 14,
   "metadata": {},
   "outputs": [],
   "source": [
    "y = train['price_log']\n",
    "X = train.drop(\"price_log\", axis = 1)\n",
    "y_test = test['price_log']\n",
    "X_test = test.drop(\"price_log\", axis = 1)"
   ]
  },
  {
   "cell_type": "markdown",
   "metadata": {},
   "source": [
    "## SVR"
   ]
  },
  {
   "cell_type": "code",
   "execution_count": 46,
   "metadata": {},
   "outputs": [
    {
     "data": {
      "text/plain": [
       "GridSearchCV(cv=5, error_score='raise-deprecating',\n",
       "             estimator=SVR(C=1.0, cache_size=200, coef0=0.0, degree=3,\n",
       "                           epsilon=0.1, gamma='scale', kernel='rbf',\n",
       "                           max_iter=-1, shrinking=True, tol=0.001,\n",
       "                           verbose=False),\n",
       "             iid='warn', n_jobs=None,\n",
       "             param_grid={'C': [0.6, 0.7, 0.8, 0.9, 1],\n",
       "                         'epsilon': [0.08, 0.1, 0.2]},\n",
       "             pre_dispatch='2*n_jobs', refit=True, return_train_score=False,\n",
       "             scoring='neg_mean_squared_error', verbose=0)"
      ]
     },
     "execution_count": 46,
     "metadata": {},
     "output_type": "execute_result"
    }
   ],
   "source": [
    "parameters = {'C':[0.6, 0.7, 0.8, 0.9, 1], 'epsilon':[0.08, 0.1, 0.2]}\n",
    "svr = SVR(gamma='scale')\n",
    "clf = GridSearchCV(estimator = svr, param_grid = parameters, scoring = 'neg_mean_squared_error', cv = 5)\n",
    "clf.fit(X, y)"
   ]
  },
  {
   "cell_type": "code",
   "execution_count": 47,
   "metadata": {},
   "outputs": [
    {
     "data": {
      "text/plain": [
       "{'mean_fit_time': array([3.86645045, 3.60759859, 2.5534668 , 4.13312759, 3.82270217,\n",
       "        2.60684485, 4.1533947 , 3.80577197, 2.72263689, 4.27774644,\n",
       "        3.95155673, 2.72351522, 4.32143235, 4.06672835, 2.69856801]),\n",
       " 'std_fit_time': array([0.08271776, 0.03431746, 0.06261345, 0.08176882, 0.12472308,\n",
       "        0.04838934, 0.03709456, 0.10118939, 0.04775751, 0.12143161,\n",
       "        0.11533965, 0.05864693, 0.04748071, 0.0648038 , 0.03676051]),\n",
       " 'mean_score_time': array([0.74354591, 0.70281525, 0.49830661, 0.78875618, 0.72040472,\n",
       "        0.50081539, 0.77868805, 0.70996242, 0.51421213, 0.78244424,\n",
       "        0.72273269, 0.51182671, 0.78002644, 0.70853157, 0.49456959]),\n",
       " 'std_score_time': array([0.01706345, 0.03171981, 0.00944039, 0.02735362, 0.01885887,\n",
       "        0.01024734, 0.02703302, 0.01513744, 0.01119915, 0.02337924,\n",
       "        0.01878756, 0.00918123, 0.02729831, 0.01402829, 0.00388754]),\n",
       " 'param_C': masked_array(data=[0.6, 0.6, 0.6, 0.7, 0.7, 0.7, 0.8, 0.8, 0.8, 0.9, 0.9,\n",
       "                    0.9, 1, 1, 1],\n",
       "              mask=[False, False, False, False, False, False, False, False,\n",
       "                    False, False, False, False, False, False, False],\n",
       "        fill_value='?',\n",
       "             dtype=object),\n",
       " 'param_epsilon': masked_array(data=[0.08, 0.1, 0.2, 0.08, 0.1, 0.2, 0.08, 0.1, 0.2, 0.08,\n",
       "                    0.1, 0.2, 0.08, 0.1, 0.2],\n",
       "              mask=[False, False, False, False, False, False, False, False,\n",
       "                    False, False, False, False, False, False, False],\n",
       "        fill_value='?',\n",
       "             dtype=object),\n",
       " 'params': [{'C': 0.6, 'epsilon': 0.08},\n",
       "  {'C': 0.6, 'epsilon': 0.1},\n",
       "  {'C': 0.6, 'epsilon': 0.2},\n",
       "  {'C': 0.7, 'epsilon': 0.08},\n",
       "  {'C': 0.7, 'epsilon': 0.1},\n",
       "  {'C': 0.7, 'epsilon': 0.2},\n",
       "  {'C': 0.8, 'epsilon': 0.08},\n",
       "  {'C': 0.8, 'epsilon': 0.1},\n",
       "  {'C': 0.8, 'epsilon': 0.2},\n",
       "  {'C': 0.9, 'epsilon': 0.08},\n",
       "  {'C': 0.9, 'epsilon': 0.1},\n",
       "  {'C': 0.9, 'epsilon': 0.2},\n",
       "  {'C': 1, 'epsilon': 0.08},\n",
       "  {'C': 1, 'epsilon': 0.1},\n",
       "  {'C': 1, 'epsilon': 0.2}],\n",
       " 'split0_test_score': array([-0.15873031, -0.15902509, -0.16157058, -0.15769423, -0.15782703,\n",
       "        -0.16042515, -0.15695651, -0.15708059, -0.15940435, -0.15627899,\n",
       "        -0.15652382, -0.15858745, -0.15577561, -0.15614182, -0.15790168]),\n",
       " 'split1_test_score': array([-0.1428556 , -0.14308616, -0.14482123, -0.14159569, -0.14177154,\n",
       "        -0.14385761, -0.1407134 , -0.14080454, -0.14331696, -0.14017587,\n",
       "        -0.14021331, -0.14310134, -0.13992209, -0.14002142, -0.1428737 ]),\n",
       " 'split2_test_score': array([-0.15070262, -0.15062853, -0.15152897, -0.14918062, -0.14906765,\n",
       "        -0.15000986, -0.14781718, -0.14770117, -0.14882318, -0.14669567,\n",
       "        -0.14654507, -0.14786908, -0.1457856 , -0.14558115, -0.14691122]),\n",
       " 'split3_test_score': array([-0.15580241, -0.1556974 , -0.15631772, -0.15529986, -0.15507489,\n",
       "        -0.15533554, -0.15495136, -0.15449755, -0.15463431, -0.15460488,\n",
       "        -0.15402433, -0.15401538, -0.15446851, -0.15374349, -0.15348995]),\n",
       " 'split4_test_score': array([-0.14374422, -0.14363909, -0.14568788, -0.1424121 , -0.14229952,\n",
       "        -0.14432757, -0.14133141, -0.14128652, -0.14325761, -0.14041239,\n",
       "        -0.14043846, -0.14238535, -0.13970402, -0.13987117, -0.14181368]),\n",
       " 'mean_test_score': array([-0.15036713, -0.1504154 , -0.15198556, -0.1492366 , -0.14920827,\n",
       "        -0.15079146, -0.14835408, -0.14827423, -0.14988763, -0.1476337 ,\n",
       "        -0.14754919, -0.14919211, -0.14713133, -0.14707205, -0.14859846]),\n",
       " 'std_test_score': array([0.00632314, 0.00635194, 0.00635411, 0.00653117, 0.00650818,\n",
       "        0.0063869 , 0.0067162 , 0.00665223, 0.00634656, 0.00681186,\n",
       "        0.00675104, 0.00627286, 0.00689239, 0.00679086, 0.00619927]),\n",
       " 'rank_test_score': array([12, 13, 15, 10,  9, 14,  6,  5, 11,  4,  3,  8,  2,  1,  7],\n",
       "       dtype=int32)}"
      ]
     },
     "execution_count": 47,
     "metadata": {},
     "output_type": "execute_result"
    }
   ],
   "source": [
    "clf.cv_results_"
   ]
  },
  {
   "cell_type": "code",
   "execution_count": 48,
   "metadata": {},
   "outputs": [
    {
     "data": {
      "text/plain": [
       "SVR(C=1, cache_size=200, coef0=0.0, degree=3, epsilon=0.1, gamma='scale',\n",
       "    kernel='rbf', max_iter=-1, shrinking=True, tol=0.001, verbose=False)"
      ]
     },
     "execution_count": 48,
     "metadata": {},
     "output_type": "execute_result"
    }
   ],
   "source": [
    "clf.best_estimator_"
   ]
  },
  {
   "cell_type": "code",
   "execution_count": 49,
   "metadata": {},
   "outputs": [
    {
     "data": {
      "text/plain": [
       "-0.14707204848678226"
      ]
     },
     "execution_count": 49,
     "metadata": {},
     "output_type": "execute_result"
    }
   ],
   "source": [
    "clf.best_score_"
   ]
  },
  {
   "cell_type": "code",
   "execution_count": 50,
   "metadata": {},
   "outputs": [
    {
     "data": {
      "text/plain": [
       "0.12942335965135573"
      ]
     },
     "execution_count": 50,
     "metadata": {},
     "output_type": "execute_result"
    }
   ],
   "source": [
    "svr_pred = clf.predict(X_test)\n",
    "metrics.mean_squared_error(y_test, svr_pred)"
   ]
  },
  {
   "cell_type": "markdown",
   "metadata": {},
   "source": [
    "## KNR"
   ]
  },
  {
   "cell_type": "code",
   "execution_count": 20,
   "metadata": {},
   "outputs": [],
   "source": [
    "from sklearn.neighbors import KNeighborsRegressor"
   ]
  },
  {
   "cell_type": "code",
   "execution_count": 27,
   "metadata": {},
   "outputs": [
    {
     "data": {
      "text/plain": [
       "GridSearchCV(cv=5, error_score='raise-deprecating',\n",
       "             estimator=KNeighborsRegressor(algorithm='auto', leaf_size=30,\n",
       "                                           metric='minkowski',\n",
       "                                           metric_params=None, n_jobs=None,\n",
       "                                           n_neighbors=5, p=2,\n",
       "                                           weights='uniform'),\n",
       "             iid='warn', n_jobs=None,\n",
       "             param_grid={'n_neighbors': [2, 4, 6, 7, 8]},\n",
       "             pre_dispatch='2*n_jobs', refit=True, return_train_score=False,\n",
       "             scoring='neg_mean_squared_error', verbose=0)"
      ]
     },
     "execution_count": 27,
     "metadata": {},
     "output_type": "execute_result"
    }
   ],
   "source": [
    "parameters = {'n_neighbors':[2,4,6,7,8]}\n",
    "knr = KNeighborsRegressor()\n",
    "knr_clf = GridSearchCV(estimator = knr, param_grid = parameters, scoring = 'neg_mean_squared_error', cv = 5)\n",
    "knr_clf.fit(X, y)"
   ]
  },
  {
   "cell_type": "code",
   "execution_count": 28,
   "metadata": {},
   "outputs": [
    {
     "data": {
      "text/plain": [
       "{'mean_fit_time': array([0.01809177, 0.01619091, 0.01716394, 0.0159287 , 0.01709967]),\n",
       " 'std_fit_time': array([0.00290822, 0.00087049, 0.00067418, 0.0010843 , 0.00197975]),\n",
       " 'mean_score_time': array([1.12645741, 1.27125182, 1.32766223, 1.23669729, 1.33978896]),\n",
       " 'std_score_time': array([0.04005603, 0.09805055, 0.08025148, 0.04139996, 0.15899738]),\n",
       " 'param_n_neighbors': masked_array(data=[2, 4, 6, 7, 8],\n",
       "              mask=[False, False, False, False, False],\n",
       "        fill_value='?',\n",
       "             dtype=object),\n",
       " 'params': [{'n_neighbors': 2},\n",
       "  {'n_neighbors': 4},\n",
       "  {'n_neighbors': 6},\n",
       "  {'n_neighbors': 7},\n",
       "  {'n_neighbors': 8}],\n",
       " 'split0_test_score': array([-0.24120197, -0.2134189 , -0.20603189, -0.20368285, -0.20312995]),\n",
       " 'split1_test_score': array([-0.22768972, -0.19947745, -0.18901656, -0.19028257, -0.18852334]),\n",
       " 'split2_test_score': array([-0.2477454 , -0.21709775, -0.2089788 , -0.20368107, -0.20458208]),\n",
       " 'split3_test_score': array([-0.25011848, -0.21601682, -0.20686638, -0.2012414 , -0.2009153 ]),\n",
       " 'split4_test_score': array([-0.23339707, -0.20228654, -0.19759299, -0.19671781, -0.19688279]),\n",
       " 'mean_test_score': array([-0.24002922, -0.20965874, -0.20169635, -0.19912064, -0.19880599]),\n",
       " 'std_test_score': array([0.00847305, 0.00732007, 0.00743257, 0.00509944, 0.0057615 ]),\n",
       " 'rank_test_score': array([5, 4, 3, 2, 1], dtype=int32)}"
      ]
     },
     "execution_count": 28,
     "metadata": {},
     "output_type": "execute_result"
    }
   ],
   "source": [
    "knr_clf.cv_results_"
   ]
  },
  {
   "cell_type": "code",
   "execution_count": 29,
   "metadata": {},
   "outputs": [
    {
     "data": {
      "text/plain": [
       "KNeighborsRegressor(algorithm='auto', leaf_size=30, metric='minkowski',\n",
       "                    metric_params=None, n_jobs=None, n_neighbors=8, p=2,\n",
       "                    weights='uniform')"
      ]
     },
     "execution_count": 29,
     "metadata": {},
     "output_type": "execute_result"
    }
   ],
   "source": [
    "knr_clf.best_estimator_"
   ]
  },
  {
   "cell_type": "code",
   "execution_count": 30,
   "metadata": {},
   "outputs": [
    {
     "data": {
      "text/plain": [
       "-0.1988059931419575"
      ]
     },
     "execution_count": 30,
     "metadata": {},
     "output_type": "execute_result"
    }
   ],
   "source": [
    "knr_clf.best_score_"
   ]
  },
  {
   "cell_type": "code",
   "execution_count": 31,
   "metadata": {},
   "outputs": [
    {
     "data": {
      "text/plain": [
       "0.18055357984092313"
      ]
     },
     "execution_count": 31,
     "metadata": {},
     "output_type": "execute_result"
    }
   ],
   "source": [
    "knr_pred = knr_clf.predict(X_test)\n",
    "metrics.mean_squared_error(y_test, knr_pred)"
   ]
  },
  {
   "cell_type": "code",
   "execution_count": null,
   "metadata": {},
   "outputs": [],
   "source": []
  },
  {
   "cell_type": "markdown",
   "metadata": {},
   "source": [
    "## Random Forest"
   ]
  },
  {
   "cell_type": "code",
   "execution_count": 41,
   "metadata": {},
   "outputs": [
    {
     "data": {
      "text/plain": [
       "GridSearchCV(cv=5, error_score='raise-deprecating',\n",
       "             estimator=RandomForestRegressor(bootstrap=True, criterion='mse',\n",
       "                                             max_depth=None,\n",
       "                                             max_features='auto',\n",
       "                                             max_leaf_nodes=None,\n",
       "                                             min_impurity_decrease=0.0,\n",
       "                                             min_impurity_split=None,\n",
       "                                             min_samples_leaf=1,\n",
       "                                             min_samples_split=2,\n",
       "                                             min_weight_fraction_leaf=0.0,\n",
       "                                             n_estimators='warn', n_jobs=None,\n",
       "                                             oob_score=False, random_state=0,\n",
       "                                             verbose=0, warm_start=False),\n",
       "             iid='warn', n_jobs=None,\n",
       "             param_grid={'n_estimators': [250, 260, 270, 280, 290, 300]},\n",
       "             pre_dispatch='2*n_jobs', refit=True, return_train_score=False,\n",
       "             scoring='neg_mean_squared_error', verbose=0)"
      ]
     },
     "execution_count": 41,
     "metadata": {},
     "output_type": "execute_result"
    }
   ],
   "source": [
    "parameters = {'n_estimators': [250, 260, 270, 280, 290, 300]}\n",
    "rf = RandomForestRegressor(random_state = 0, max_depth = None)\n",
    "rf_clf = GridSearchCV(estimator = rf, param_grid = parameters, scoring = 'neg_mean_squared_error', cv = 5)\n",
    "rf_clf.fit(X, y)"
   ]
  },
  {
   "cell_type": "code",
   "execution_count": 42,
   "metadata": {},
   "outputs": [
    {
     "data": {
      "text/plain": [
       "{'mean_fit_time': array([35.74517717, 36.31204667, 38.03263984, 39.32788081, 40.54379725,\n",
       "        42.117378  ]),\n",
       " 'std_fit_time': array([0.80081411, 0.17992131, 0.66766007, 0.47499086, 0.31338867,\n",
       "        0.64853877]),\n",
       " 'mean_score_time': array([0.09296279, 0.09460621, 0.09788475, 0.1019093 , 0.10641284,\n",
       "        0.11338449]),\n",
       " 'std_score_time': array([0.00297915, 0.00306045, 0.00144591, 0.00324883, 0.00289106,\n",
       "        0.00563061]),\n",
       " 'param_n_estimators': masked_array(data=[250, 260, 270, 280, 290, 300],\n",
       "              mask=[False, False, False, False, False, False],\n",
       "        fill_value='?',\n",
       "             dtype=object),\n",
       " 'params': [{'n_estimators': 250},\n",
       "  {'n_estimators': 260},\n",
       "  {'n_estimators': 270},\n",
       "  {'n_estimators': 280},\n",
       "  {'n_estimators': 290},\n",
       "  {'n_estimators': 300}],\n",
       " 'split0_test_score': array([-0.14299984, -0.14312392, -0.14322671, -0.14324242, -0.14317985,\n",
       "        -0.14324043]),\n",
       " 'split1_test_score': array([-0.12955131, -0.12959765, -0.12997156, -0.12991775, -0.12992666,\n",
       "        -0.13001996]),\n",
       " 'split2_test_score': array([-0.135454  , -0.13547761, -0.13549195, -0.13527778, -0.13524275,\n",
       "        -0.13536521]),\n",
       " 'split3_test_score': array([-0.14093467, -0.14084625, -0.14089919, -0.14086212, -0.1410648 ,\n",
       "        -0.1408959 ]),\n",
       " 'split4_test_score': array([-0.12693173, -0.12677981, -0.12680405, -0.12676512, -0.12674604,\n",
       "        -0.12691693]),\n",
       " 'mean_test_score': array([-0.13517457, -0.13516533, -0.135279  , -0.13521336, -0.13523233,\n",
       "        -0.135288  ]),\n",
       " 'std_test_score': array([0.00623003, 0.00627749, 0.00624179, 0.00625784, 0.0062826 ,\n",
       "        0.00620534]),\n",
       " 'rank_test_score': array([2, 1, 5, 3, 4, 6], dtype=int32)}"
      ]
     },
     "execution_count": 42,
     "metadata": {},
     "output_type": "execute_result"
    }
   ],
   "source": [
    "rf_clf.cv_results_"
   ]
  },
  {
   "cell_type": "code",
   "execution_count": 43,
   "metadata": {},
   "outputs": [
    {
     "data": {
      "text/plain": [
       "RandomForestRegressor(bootstrap=True, criterion='mse', max_depth=None,\n",
       "                      max_features='auto', max_leaf_nodes=None,\n",
       "                      min_impurity_decrease=0.0, min_impurity_split=None,\n",
       "                      min_samples_leaf=1, min_samples_split=2,\n",
       "                      min_weight_fraction_leaf=0.0, n_estimators=260,\n",
       "                      n_jobs=None, oob_score=False, random_state=0, verbose=0,\n",
       "                      warm_start=False)"
      ]
     },
     "execution_count": 43,
     "metadata": {},
     "output_type": "execute_result"
    }
   ],
   "source": [
    "rf_clf.best_estimator_"
   ]
  },
  {
   "cell_type": "code",
   "execution_count": 44,
   "metadata": {},
   "outputs": [
    {
     "data": {
      "text/plain": [
       "-0.13516532730340775"
      ]
     },
     "execution_count": 44,
     "metadata": {},
     "output_type": "execute_result"
    }
   ],
   "source": [
    "rf_clf.best_score_"
   ]
  },
  {
   "cell_type": "code",
   "execution_count": 45,
   "metadata": {},
   "outputs": [
    {
     "data": {
      "text/plain": [
       "0.12415653396840075"
      ]
     },
     "execution_count": 45,
     "metadata": {},
     "output_type": "execute_result"
    }
   ],
   "source": [
    "rf_pred = rf_clf.predict(X_test)\n",
    "metrics.mean_squared_error(y_test, rf_pred)"
   ]
  },
  {
   "cell_type": "code",
   "execution_count": null,
   "metadata": {},
   "outputs": [],
   "source": []
  }
 ],
 "metadata": {
  "kernelspec": {
   "display_name": "Python 3",
   "language": "python",
   "name": "python3"
  },
  "language_info": {
   "codemirror_mode": {
    "name": "ipython",
    "version": 3
   },
   "file_extension": ".py",
   "mimetype": "text/x-python",
   "name": "python",
   "nbconvert_exporter": "python",
   "pygments_lexer": "ipython3",
   "version": "3.7.3"
  }
 },
 "nbformat": 4,
 "nbformat_minor": 2
}
