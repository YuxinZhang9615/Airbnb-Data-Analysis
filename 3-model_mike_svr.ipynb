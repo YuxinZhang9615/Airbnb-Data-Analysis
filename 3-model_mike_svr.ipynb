{
 "cells": [
  {
   "cell_type": "code",
   "execution_count": 1,
   "metadata": {},
   "outputs": [
    {
     "data": {
      "text/html": [
       "<div>\n",
       "<style scoped>\n",
       "    .dataframe tbody tr th:only-of-type {\n",
       "        vertical-align: middle;\n",
       "    }\n",
       "\n",
       "    .dataframe tbody tr th {\n",
       "        vertical-align: top;\n",
       "    }\n",
       "\n",
       "    .dataframe thead th {\n",
       "        text-align: right;\n",
       "    }\n",
       "</style>\n",
       "<table border=\"1\" class=\"dataframe\">\n",
       "  <thead>\n",
       "    <tr style=\"text-align: right;\">\n",
       "      <th></th>\n",
       "      <th>host_is_superhost</th>\n",
       "      <th>host_listings_count</th>\n",
       "      <th>host_has_profile_pic</th>\n",
       "      <th>host_identity_verified</th>\n",
       "      <th>accommodates</th>\n",
       "      <th>bedrooms</th>\n",
       "      <th>minimum_nights</th>\n",
       "      <th>number_of_reviews</th>\n",
       "      <th>review_scores_rating</th>\n",
       "      <th>instant_bookable</th>\n",
       "      <th>...</th>\n",
       "      <th>house_rules_p</th>\n",
       "      <th>review_len</th>\n",
       "      <th>review_spec</th>\n",
       "      <th>review_num</th>\n",
       "      <th>svd_R</th>\n",
       "      <th>review_p</th>\n",
       "      <th>review_s</th>\n",
       "      <th>if_monthly</th>\n",
       "      <th>distance_min</th>\n",
       "      <th>price_log</th>\n",
       "    </tr>\n",
       "  </thead>\n",
       "  <tbody>\n",
       "    <tr>\n",
       "      <th>count</th>\n",
       "      <td>8522.000000</td>\n",
       "      <td>8522.000000</td>\n",
       "      <td>8522.000000</td>\n",
       "      <td>8522.000000</td>\n",
       "      <td>8522.000000</td>\n",
       "      <td>8522.000000</td>\n",
       "      <td>8522.000000</td>\n",
       "      <td>8522.000000</td>\n",
       "      <td>8522.000000</td>\n",
       "      <td>8522.000000</td>\n",
       "      <td>...</td>\n",
       "      <td>8522.000000</td>\n",
       "      <td>8522.000000</td>\n",
       "      <td>8522.000000</td>\n",
       "      <td>8522.000000</td>\n",
       "      <td>8522.000000</td>\n",
       "      <td>8522.000000</td>\n",
       "      <td>8522.000000</td>\n",
       "      <td>8522.000000</td>\n",
       "      <td>8522.000000</td>\n",
       "      <td>8522.000000</td>\n",
       "    </tr>\n",
       "    <tr>\n",
       "      <th>mean</th>\n",
       "      <td>0.432058</td>\n",
       "      <td>0.000776</td>\n",
       "      <td>0.997301</td>\n",
       "      <td>0.457991</td>\n",
       "      <td>0.001416</td>\n",
       "      <td>0.003226</td>\n",
       "      <td>-0.000436</td>\n",
       "      <td>0.000838</td>\n",
       "      <td>0.004530</td>\n",
       "      <td>0.546703</td>\n",
       "      <td>...</td>\n",
       "      <td>0.000111</td>\n",
       "      <td>-0.000343</td>\n",
       "      <td>-0.006913</td>\n",
       "      <td>-0.004571</td>\n",
       "      <td>0.005599</td>\n",
       "      <td>0.002076</td>\n",
       "      <td>0.001881</td>\n",
       "      <td>-0.007906</td>\n",
       "      <td>-0.003711</td>\n",
       "      <td>4.855212</td>\n",
       "    </tr>\n",
       "    <tr>\n",
       "      <th>std</th>\n",
       "      <td>0.495391</td>\n",
       "      <td>0.999817</td>\n",
       "      <td>0.051884</td>\n",
       "      <td>0.498261</td>\n",
       "      <td>1.001676</td>\n",
       "      <td>1.003955</td>\n",
       "      <td>1.013899</td>\n",
       "      <td>1.005067</td>\n",
       "      <td>0.982705</td>\n",
       "      <td>0.497843</td>\n",
       "      <td>...</td>\n",
       "      <td>1.000088</td>\n",
       "      <td>0.993335</td>\n",
       "      <td>0.956155</td>\n",
       "      <td>0.990426</td>\n",
       "      <td>0.992535</td>\n",
       "      <td>0.993063</td>\n",
       "      <td>0.992220</td>\n",
       "      <td>0.986144</td>\n",
       "      <td>0.999398</td>\n",
       "      <td>0.698210</td>\n",
       "    </tr>\n",
       "    <tr>\n",
       "      <th>min</th>\n",
       "      <td>0.000000</td>\n",
       "      <td>-0.243628</td>\n",
       "      <td>0.000000</td>\n",
       "      <td>0.000000</td>\n",
       "      <td>-1.435661</td>\n",
       "      <td>-1.621742</td>\n",
       "      <td>-0.246156</td>\n",
       "      <td>-0.634275</td>\n",
       "      <td>-12.209914</td>\n",
       "      <td>0.000000</td>\n",
       "      <td>...</td>\n",
       "      <td>-6.169202</td>\n",
       "      <td>-2.179418</td>\n",
       "      <td>-1.110441</td>\n",
       "      <td>-0.884758</td>\n",
       "      <td>-6.420100</td>\n",
       "      <td>-8.742889</td>\n",
       "      <td>-5.402021</td>\n",
       "      <td>-0.266410</td>\n",
       "      <td>-1.065591</td>\n",
       "      <td>2.302585</td>\n",
       "    </tr>\n",
       "    <tr>\n",
       "      <th>25%</th>\n",
       "      <td>0.000000</td>\n",
       "      <td>-0.238199</td>\n",
       "      <td>1.000000</td>\n",
       "      <td>0.000000</td>\n",
       "      <td>-0.937338</td>\n",
       "      <td>-0.481991</td>\n",
       "      <td>-0.246156</td>\n",
       "      <td>-0.590649</td>\n",
       "      <td>-0.080458</td>\n",
       "      <td>0.000000</td>\n",
       "      <td>...</td>\n",
       "      <td>-0.527809</td>\n",
       "      <td>-0.495224</td>\n",
       "      <td>-0.254877</td>\n",
       "      <td>-0.489322</td>\n",
       "      <td>-0.317731</td>\n",
       "      <td>-0.263927</td>\n",
       "      <td>-0.196427</td>\n",
       "      <td>-0.266410</td>\n",
       "      <td>-0.557558</td>\n",
       "      <td>4.369448</td>\n",
       "    </tr>\n",
       "    <tr>\n",
       "      <th>50%</th>\n",
       "      <td>0.000000</td>\n",
       "      <td>-0.232771</td>\n",
       "      <td>1.000000</td>\n",
       "      <td>0.000000</td>\n",
       "      <td>0.059306</td>\n",
       "      <td>-0.481991</td>\n",
       "      <td>-0.182337</td>\n",
       "      <td>-0.401604</td>\n",
       "      <td>0.242994</td>\n",
       "      <td>1.000000</td>\n",
       "      <td>...</td>\n",
       "      <td>-0.527809</td>\n",
       "      <td>0.004908</td>\n",
       "      <td>-0.142047</td>\n",
       "      <td>-0.108233</td>\n",
       "      <td>0.009905</td>\n",
       "      <td>-0.000321</td>\n",
       "      <td>0.029038</td>\n",
       "      <td>-0.266410</td>\n",
       "      <td>-0.323735</td>\n",
       "      <td>4.828314</td>\n",
       "    </tr>\n",
       "    <tr>\n",
       "      <th>75%</th>\n",
       "      <td>1.000000</td>\n",
       "      <td>-0.194770</td>\n",
       "      <td>1.000000</td>\n",
       "      <td>1.000000</td>\n",
       "      <td>1.055951</td>\n",
       "      <td>0.657761</td>\n",
       "      <td>-0.118518</td>\n",
       "      <td>0.150989</td>\n",
       "      <td>0.566446</td>\n",
       "      <td>1.000000</td>\n",
       "      <td>...</td>\n",
       "      <td>0.405026</td>\n",
       "      <td>0.297912</td>\n",
       "      <td>-0.011113</td>\n",
       "      <td>0.135818</td>\n",
       "      <td>0.502167</td>\n",
       "      <td>0.372443</td>\n",
       "      <td>0.394104</td>\n",
       "      <td>-0.266410</td>\n",
       "      <td>0.122526</td>\n",
       "      <td>5.298317</td>\n",
       "    </tr>\n",
       "    <tr>\n",
       "      <th>max</th>\n",
       "      <td>1.000000</td>\n",
       "      <td>9.636534</td>\n",
       "      <td>1.000000</td>\n",
       "      <td>1.000000</td>\n",
       "      <td>2.052595</td>\n",
       "      <td>4.077015</td>\n",
       "      <td>50.745168</td>\n",
       "      <td>11.275558</td>\n",
       "      <td>0.728172</td>\n",
       "      <td>1.000000</td>\n",
       "      <td>...</td>\n",
       "      <td>6.523932</td>\n",
       "      <td>18.193288</td>\n",
       "      <td>28.370835</td>\n",
       "      <td>19.118522</td>\n",
       "      <td>4.899802</td>\n",
       "      <td>5.618845</td>\n",
       "      <td>4.126983</td>\n",
       "      <td>3.753609</td>\n",
       "      <td>6.003178</td>\n",
       "      <td>6.906755</td>\n",
       "    </tr>\n",
       "  </tbody>\n",
       "</table>\n",
       "<p>8 rows × 78 columns</p>\n",
       "</div>"
      ],
      "text/plain": [
       "       host_is_superhost  host_listings_count  host_has_profile_pic  \\\n",
       "count        8522.000000          8522.000000           8522.000000   \n",
       "mean            0.432058             0.000776              0.997301   \n",
       "std             0.495391             0.999817              0.051884   \n",
       "min             0.000000            -0.243628              0.000000   \n",
       "25%             0.000000            -0.238199              1.000000   \n",
       "50%             0.000000            -0.232771              1.000000   \n",
       "75%             1.000000            -0.194770              1.000000   \n",
       "max             1.000000             9.636534              1.000000   \n",
       "\n",
       "       host_identity_verified  accommodates     bedrooms  minimum_nights  \\\n",
       "count             8522.000000   8522.000000  8522.000000     8522.000000   \n",
       "mean                 0.457991      0.001416     0.003226       -0.000436   \n",
       "std                  0.498261      1.001676     1.003955        1.013899   \n",
       "min                  0.000000     -1.435661    -1.621742       -0.246156   \n",
       "25%                  0.000000     -0.937338    -0.481991       -0.246156   \n",
       "50%                  0.000000      0.059306    -0.481991       -0.182337   \n",
       "75%                  1.000000      1.055951     0.657761       -0.118518   \n",
       "max                  1.000000      2.052595     4.077015       50.745168   \n",
       "\n",
       "       number_of_reviews  review_scores_rating  instant_bookable  ...  \\\n",
       "count        8522.000000           8522.000000       8522.000000  ...   \n",
       "mean            0.000838              0.004530          0.546703  ...   \n",
       "std             1.005067              0.982705          0.497843  ...   \n",
       "min            -0.634275            -12.209914          0.000000  ...   \n",
       "25%            -0.590649             -0.080458          0.000000  ...   \n",
       "50%            -0.401604              0.242994          1.000000  ...   \n",
       "75%             0.150989              0.566446          1.000000  ...   \n",
       "max            11.275558              0.728172          1.000000  ...   \n",
       "\n",
       "       house_rules_p   review_len  review_spec   review_num        svd_R  \\\n",
       "count    8522.000000  8522.000000  8522.000000  8522.000000  8522.000000   \n",
       "mean        0.000111    -0.000343    -0.006913    -0.004571     0.005599   \n",
       "std         1.000088     0.993335     0.956155     0.990426     0.992535   \n",
       "min        -6.169202    -2.179418    -1.110441    -0.884758    -6.420100   \n",
       "25%        -0.527809    -0.495224    -0.254877    -0.489322    -0.317731   \n",
       "50%        -0.527809     0.004908    -0.142047    -0.108233     0.009905   \n",
       "75%         0.405026     0.297912    -0.011113     0.135818     0.502167   \n",
       "max         6.523932    18.193288    28.370835    19.118522     4.899802   \n",
       "\n",
       "          review_p     review_s   if_monthly  distance_min    price_log  \n",
       "count  8522.000000  8522.000000  8522.000000   8522.000000  8522.000000  \n",
       "mean      0.002076     0.001881    -0.007906     -0.003711     4.855212  \n",
       "std       0.993063     0.992220     0.986144      0.999398     0.698210  \n",
       "min      -8.742889    -5.402021    -0.266410     -1.065591     2.302585  \n",
       "25%      -0.263927    -0.196427    -0.266410     -0.557558     4.369448  \n",
       "50%      -0.000321     0.029038    -0.266410     -0.323735     4.828314  \n",
       "75%       0.372443     0.394104    -0.266410      0.122526     5.298317  \n",
       "max       5.618845     4.126983     3.753609      6.003178     6.906755  \n",
       "\n",
       "[8 rows x 78 columns]"
      ]
     },
     "execution_count": 1,
     "metadata": {},
     "output_type": "execute_result"
    }
   ],
   "source": [
    "import pandas as pd\n",
    "from sklearn.preprocessing import StandardScaler\n",
    "from sklearn.model_selection import GridSearchCV\n",
    "from sklearn.svm import SVR\n",
    "import seaborn as sns\n",
    "import sklearn.metrics as sm\n",
    "\n",
    "base_path = '/home/maj/data/insideairbnb/processed/'\n",
    "train = pd.read_csv(base_path + 'train.csv', low_memory=False)\n",
    "validate = pd.read_csv(base_path + 'validate.csv', low_memory=False)\n",
    "test = pd.read_csv(base_path + 'test.csv', low_memory=False)\n",
    "train_validate = pd.concat([train, validate], keys=['train', 'val'])\n",
    "train_validate.describe()"
   ]
  },
  {
   "cell_type": "code",
   "execution_count": 2,
   "metadata": {},
   "outputs": [],
   "source": [
    "drop_columns = ['price_log', 'host_has_profile_pic', 'is_business_travel_ready', 'distance_to_san_diego_zoo']\n",
    "X_train = train.drop(drop_columns, axis=1).to_numpy()\n",
    "X_validate = validate.drop(drop_columns, axis=1).to_numpy()\n",
    "X_train_validate = train_validate.drop(drop_columns, axis=1).to_numpy()"
   ]
  },
  {
   "cell_type": "code",
   "execution_count": 3,
   "metadata": {},
   "outputs": [
    {
     "name": "stdout",
     "output_type": "stream",
     "text": [
      "CPU times: user 18 s, sys: 562 ms, total: 18.5 s\n",
      "Wall time: 50min 9s\n"
     ]
    },
    {
     "data": {
      "text/plain": [
       "{'C': 4, 'epsilon': 0.05, 'gamma': 0.0078125}"
      ]
     },
     "execution_count": 3,
     "metadata": {},
     "output_type": "execute_result"
    }
   ],
   "source": [
    "%%time\n",
    "grid_result = GridSearchCV(estimator=SVR(kernel='rbf'),\n",
    "                    param_grid=dict(C=[2**i for i in range(-4, 16, 2)],\n",
    "                                    gamma=[2**i for i in range(-15, 1, 2)] + ['auto', 'scale'],\n",
    "                                    epsilon=[0.01, 0.05, 0.1, 0.5, 1, 2, 5, 10]),\n",
    "                    cv=[(train_validate.index.get_locs(['train']), train_validate.index.get_locs(['val']))],\n",
    "                    n_jobs=20).fit(X_train_validate, train_validate.price_log.to_numpy())\n",
    "grid_result.best_params_"
   ]
  },
  {
   "cell_type": "code",
   "execution_count": 4,
   "metadata": {},
   "outputs": [
    {
     "data": {
      "text/plain": [
       "0.724244947573807"
      ]
     },
     "execution_count": 4,
     "metadata": {},
     "output_type": "execute_result"
    }
   ],
   "source": [
    "X_test = test.drop(drop_columns, axis=1).to_numpy()\n",
    "be = grid_result.best_estimator_\n",
    "be.score(X_test, test.price_log.to_numpy())"
   ]
  },
  {
   "cell_type": "code",
   "execution_count": 5,
   "metadata": {},
   "outputs": [
    {
     "data": {
      "text/plain": [
       "0.12672327433467043"
      ]
     },
     "execution_count": 5,
     "metadata": {},
     "output_type": "execute_result"
    }
   ],
   "source": [
    "sm.mean_squared_error(test.price_log.to_numpy(), be.predict(X_test).flatten())"
   ]
  },
  {
   "cell_type": "code",
   "execution_count": 6,
   "metadata": {},
   "outputs": [
    {
     "data": {
      "text/plain": [
       "<matplotlib.axes._subplots.AxesSubplot at 0x7f832d8c3990>"
      ]
     },
     "execution_count": 6,
     "metadata": {},
     "output_type": "execute_result"
    },
    {
     "data": {
      "image/png": "[encoded data removed]",
      "text/plain": [
       "<Figure size 432x288 with 1 Axes>"
      ]
     },
     "metadata": {
      "needs_background": "light"
     },
     "output_type": "display_data"
    }
   ],
   "source": [
    "sns.scatterplot(test.price_log.to_numpy(), be.predict(X_test).flatten())"
   ]
  },
  {
   "cell_type": "code",
   "execution_count": 7,
   "metadata": {},
   "outputs": [],
   "source": [
    "# TODO persist the models\n",
    "# https://scikit-learn.org/stable/modules/model_persistence.html"
   ]
  }
 ],
 "metadata": {
  "kernelspec": {
   "display_name": "Python 3",
   "language": "python",
   "name": "python3"
  },
  "language_info": {
   "codemirror_mode": {
    "name": "ipython",
    "version": 3
   },
   "file_extension": ".py",
   "mimetype": "text/x-python",
   "name": "python",
   "nbconvert_exporter": "python",
   "pygments_lexer": "ipython3",
   "version": "3.7.7"
  }
 },
 "nbformat": 4,
 "nbformat_minor": 4
}
