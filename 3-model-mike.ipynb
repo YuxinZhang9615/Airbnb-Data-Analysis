{
 "cells": [
  {
   "cell_type": "code",
   "execution_count": 4,
   "metadata": {},
   "outputs": [
    {
     "data": {
      "text/plain": [
       "0.724244947573807"
      ]
     },
     "execution_count": 4,
     "metadata": {},
     "output_type": "execute_result"
    }
   ],
   "source": [
    "import pandas as pd\n",
    "from sklearn.svm import SVR\n",
    "from sklearn.neighbors import KNeighborsRegressor\n",
    "import seaborn as sns\n",
    "import sklearn.metrics as sm\n",
    "\n",
    "base_path = '/home/maj/data/insideairbnb/processed/'\n",
    "train = pd.read_csv(base_path + 'train.csv', low_memory=False)\n",
    "validate = pd.read_csv(base_path + 'validate.csv', low_memory=False)\n",
    "test = pd.read_csv(base_path + 'test.csv', low_memory=False)\n",
    "train_validate = pd.concat([train, validate], keys=['train', 'val'])\n",
    "drop_columns = ['price_log', 'host_has_profile_pic', 'is_business_travel_ready', 'distance_to_san_diego_zoo']\n",
    "X_train = train.drop(drop_columns, axis=1).to_numpy()\n",
    "X_validate = validate.drop(drop_columns, axis=1).to_numpy()\n",
    "X_train_validate = train_validate.drop(drop_columns, axis=1).to_numpy()\n",
    "X_test = test.drop(drop_columns, axis=1).to_numpy()\n",
    "# SVR with {'C': 4, 'epsilon': 0.05, 'gamma': 0.0078125} (= 2**-7)\n",
    "m_svr = SVR(kernel='rbf', C=4, epsilon=0.05, gamma=2**-7).fit(X_train_validate, train_validate.price_log.to_numpy())\n",
    "m_svr.score(X_test, test.price_log.to_numpy())"
   ]
  },
  {
   "cell_type": "code",
   "execution_count": 5,
   "metadata": {},
   "outputs": [
    {
     "data": {
      "text/plain": [
       "0.12672327433467043"
      ]
     },
     "execution_count": 5,
     "metadata": {},
     "output_type": "execute_result"
    }
   ],
   "source": [
    "sm.mean_squared_error(test.price_log.to_numpy(), m_svr.predict(X_test).flatten())"
   ]
  },
  {
   "cell_type": "code",
   "execution_count": null,
   "metadata": {},
   "outputs": [],
   "source": [
    "# KNNR with {'n_neighbors': 7, 'p': 1}"
   ]
  },
  {
   "cell_type": "code",
   "execution_count": null,
   "metadata": {},
   "outputs": [],
   "source": [
    "# DNN with {'neurons': 64}"
   ]
  }
 ],
 "metadata": {
  "kernelspec": {
   "display_name": "Python 3",
   "language": "python",
   "name": "python3"
  },
  "language_info": {
   "codemirror_mode": {
    "name": "ipython",
    "version": 3
   },
   "file_extension": ".py",
   "mimetype": "text/x-python",
   "name": "python",
   "nbconvert_exporter": "python",
   "pygments_lexer": "ipython3",
   "version": "3.7.7"
  }
 },
 "nbformat": 4,
 "nbformat_minor": 4
}
